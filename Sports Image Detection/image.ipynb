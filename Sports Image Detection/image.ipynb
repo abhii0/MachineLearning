{
  "cells": [
    {
      "cell_type": "code",
      "execution_count": null,
      "metadata": {
        "id": "DB0q4uwVxj28"
      },
      "outputs": [],
      "source": [
        "import pandas as pd\n",
        "import matplotlib.pyplot as plt\n",
        "import numpy as np\n",
        "import os\n",
        "import glob\n",
        "from PIL import Image\n",
        "import tensorflow as tf\n",
        "from tensorflow import keras\n",
        "from tensorflow.keras import layers\n",
        "from tensorflow.keras.models import Sequential\n",
        "from google.colab import drive"
      ]
    },
    {
      "cell_type": "code",
      "execution_count": null,
      "metadata": {
        "colab": {
          "base_uri": "https://localhost:8080/"
        },
        "id": "r-6J7IMg5d-z",
        "outputId": "9ea8a002-41ec-443f-d08b-490551208103"
      },
      "outputs": [
        {
          "name": "stdout",
          "output_type": "stream",
          "text": [
            "Drive already mounted at /content/drive; to attempt to forcibly remount, call drive.mount(\"/content/drive\", force_remount=True).\n"
          ]
        }
      ],
      "source": [
        "drive.mount('/content/drive')"
      ]
    },
    {
      "cell_type": "code",
      "execution_count": null,
      "metadata": {
        "id": "XfFwehjI7_wW"
      },
      "outputs": [],
      "source": [
        "data= pd.read_csv(\"/content/drive/MyDrive/Sports Dataset/class_dict.csv\")"
      ]
    },
    {
      "cell_type": "code",
      "execution_count": null,
      "metadata": {
        "colab": {
          "base_uri": "https://localhost:8080/",
          "height": 419
        },
        "id": "A3F6ScSU8I6i",
        "outputId": "d37541be-172b-46b5-a190-b14dda6f10de"
      },
      "outputs": [
        {
          "data": {
            "text/html": [
              "<div>\n",
              "<style scoped>\n",
              "    .dataframe tbody tr th:only-of-type {\n",
              "        vertical-align: middle;\n",
              "    }\n",
              "\n",
              "    .dataframe tbody tr th {\n",
              "        vertical-align: top;\n",
              "    }\n",
              "\n",
              "    .dataframe thead th {\n",
              "        text-align: right;\n",
              "    }\n",
              "</style>\n",
              "<table border=\"1\" class=\"dataframe\">\n",
              "  <thead>\n",
              "    <tr style=\"text-align: right;\">\n",
              "      <th></th>\n",
              "      <th>class_index</th>\n",
              "      <th>class</th>\n",
              "      <th>height</th>\n",
              "      <th>width</th>\n",
              "      <th>scale by</th>\n",
              "    </tr>\n",
              "  </thead>\n",
              "  <tbody>\n",
              "    <tr>\n",
              "      <th>0</th>\n",
              "      <td>0.0</td>\n",
              "      <td>air hockey</td>\n",
              "      <td>224</td>\n",
              "      <td>224</td>\n",
              "      <td>1</td>\n",
              "    </tr>\n",
              "    <tr>\n",
              "      <th>1</th>\n",
              "      <td>1.0</td>\n",
              "      <td>ampute football</td>\n",
              "      <td>224</td>\n",
              "      <td>224</td>\n",
              "      <td>1</td>\n",
              "    </tr>\n",
              "    <tr>\n",
              "      <th>2</th>\n",
              "      <td>2.0</td>\n",
              "      <td>archery</td>\n",
              "      <td>224</td>\n",
              "      <td>224</td>\n",
              "      <td>1</td>\n",
              "    </tr>\n",
              "    <tr>\n",
              "      <th>3</th>\n",
              "      <td>3.0</td>\n",
              "      <td>arm wrestling</td>\n",
              "      <td>224</td>\n",
              "      <td>224</td>\n",
              "      <td>1</td>\n",
              "    </tr>\n",
              "    <tr>\n",
              "      <th>4</th>\n",
              "      <td>4.0</td>\n",
              "      <td>balance beam</td>\n",
              "      <td>224</td>\n",
              "      <td>224</td>\n",
              "      <td>1</td>\n",
              "    </tr>\n",
              "    <tr>\n",
              "      <th>...</th>\n",
              "      <td>...</td>\n",
              "      <td>...</td>\n",
              "      <td>...</td>\n",
              "      <td>...</td>\n",
              "      <td>...</td>\n",
              "    </tr>\n",
              "    <tr>\n",
              "      <th>229</th>\n",
              "      <td>NaN</td>\n",
              "      <td>NaN</td>\n",
              "      <td>224</td>\n",
              "      <td>224</td>\n",
              "      <td>1</td>\n",
              "    </tr>\n",
              "    <tr>\n",
              "      <th>230</th>\n",
              "      <td>NaN</td>\n",
              "      <td>NaN</td>\n",
              "      <td>224</td>\n",
              "      <td>224</td>\n",
              "      <td>1</td>\n",
              "    </tr>\n",
              "    <tr>\n",
              "      <th>231</th>\n",
              "      <td>NaN</td>\n",
              "      <td>NaN</td>\n",
              "      <td>224</td>\n",
              "      <td>224</td>\n",
              "      <td>1</td>\n",
              "    </tr>\n",
              "    <tr>\n",
              "      <th>232</th>\n",
              "      <td>NaN</td>\n",
              "      <td>NaN</td>\n",
              "      <td>224</td>\n",
              "      <td>224</td>\n",
              "      <td>1</td>\n",
              "    </tr>\n",
              "    <tr>\n",
              "      <th>233</th>\n",
              "      <td>NaN</td>\n",
              "      <td>NaN</td>\n",
              "      <td>224</td>\n",
              "      <td>224</td>\n",
              "      <td>1</td>\n",
              "    </tr>\n",
              "  </tbody>\n",
              "</table>\n",
              "<p>234 rows × 5 columns</p>\n",
              "</div>"
            ],
            "text/plain": [
              "     class_index            class  height  width  scale by\n",
              "0            0.0       air hockey     224    224         1\n",
              "1            1.0  ampute football     224    224         1\n",
              "2            2.0          archery     224    224         1\n",
              "3            3.0    arm wrestling     224    224         1\n",
              "4            4.0     balance beam     224    224         1\n",
              "..           ...              ...     ...    ...       ...\n",
              "229          NaN              NaN     224    224         1\n",
              "230          NaN              NaN     224    224         1\n",
              "231          NaN              NaN     224    224         1\n",
              "232          NaN              NaN     224    224         1\n",
              "233          NaN              NaN     224    224         1\n",
              "\n",
              "[234 rows x 5 columns]"
            ]
          },
          "execution_count": 5,
          "metadata": {},
          "output_type": "execute_result"
        }
      ],
      "source": [
        "data"
      ]
    },
    {
      "cell_type": "code",
      "execution_count": null,
      "metadata": {
        "id": "J2xsyJMX9SKV"
      },
      "outputs": [],
      "source": [
        "test = \"/content/drive/MyDrive/Sports Dataset/test\"\n",
        "train = \"/content/drive/MyDrive/Sports Dataset/train\"\n",
        "valid = \"/content/drive/MyDrive/Sports Dataset/valid\""
      ]
    },
    {
      "cell_type": "code",
      "execution_count": null,
      "metadata": {
        "id": "GxoSxKYp9YgX"
      },
      "outputs": [],
      "source": [
        "filepaths_train = list(glob.glob(train+'/**/*.jpg'))\n",
        "filepaths_test = list(glob.glob(test+'/**/*.jpg'))"
      ]
    },
    {
      "cell_type": "code",
      "execution_count": null,
      "metadata": {
        "id": "guVeFk5R-0z9"
      },
      "outputs": [],
      "source": [
        "def proc_img(filepath):\n",
        "    labels = list(map(lambda x: os.path.split(os.path.split(x)[0])[1], filepath))\n",
        "    filepath = pd.Series(filepath, name='Filepath').astype(str)\n",
        "    labels = pd.Series(labels, name='Label')\n",
        "    df = pd.concat([filepath, labels], axis=1)\n",
        "    df = df.sample(frac=1).reset_index(drop = True)\n",
        "    \n",
        "    return df\n"
      ]
    },
    {
      "cell_type": "code",
      "execution_count": null,
      "metadata": {
        "id": "K5wzv81NACUw"
      },
      "outputs": [],
      "source": [
        "train_df = proc_img(filepaths_train)\n",
        "test_df = proc_img(filepaths_test)"
      ]
    },
    {
      "cell_type": "code",
      "execution_count": null,
      "metadata": {
        "id": "3gzSfnxTAN-q"
      },
      "outputs": [],
      "source": [
        "from PIL import ImageFile\n",
        "ImageFile.LOAD_TRUNCATED_IMAGES = True\n",
        "from keras.preprocessing.image import ImageDataGenerator\n",
        "import tensorflow as tf\n",
        "train_generator = ImageDataGenerator(\n",
        "preprocessing_function=tf.keras.applications.mobilenet_v2.preprocess_input,\n",
        "validation_split=0.2\n",
        ")\n",
        "test_generator = tf.keras.preprocessing.image.ImageDataGenerator(\n",
        "preprocessing_function=tf.keras.applications.mobilenet_v2.preprocess_input\n",
        ")\n"
      ]
    },
    {
      "cell_type": "code",
      "execution_count": null,
      "metadata": {
        "colab": {
          "base_uri": "https://localhost:8080/"
        },
        "id": "1v3YuRtsBSKj",
        "outputId": "0230399a-368e-437c-9eb9-807d061b8ddd"
      },
      "outputs": [
        {
          "name": "stdout",
          "output_type": "stream",
          "text": [
            "Found 8352 validated image filenames belonging to 73 classes.\n",
            "Found 2087 validated image filenames belonging to 73 classes.\n",
            "Found 365 validated image filenames belonging to 73 classes.\n"
          ]
        }
      ],
      "source": [
        "train_images = train_generator.flow_from_dataframe(\n",
        "dataframe=train_df,\n",
        "x_col='Filepath',\n",
        "y_col='Label',\n",
        "target_size=(248, 248),\n",
        "color_mode='rgb',\n",
        "class_mode='categorical',\n",
        "batch_size=32,\n",
        "shuffle=True,\n",
        "seed=0,\n",
        "subset='training',\n",
        "rotation_range=30,\n",
        "zoom_range=0.15,\n",
        "width_shift_range=1.0,\n",
        "height_shift_range=1.0,\n",
        "shear_range=0.15,\n",
        "horizontal_flip=True,\n",
        "fill_mode=\"nearest\"\n",
        ")\n",
        "val_images = train_generator.flow_from_dataframe(\n",
        "dataframe=train_df,\n",
        "x_col='Filepath',\n",
        "y_col='Label',\n",
        "target_size=(248, 248),\n",
        "color_mode='rgb',\n",
        "class_mode='categorical',\n",
        "batch_size=32,\n",
        "shuffle=True,\n",
        "seed=0,\n",
        "subset='validation',\n",
        "rotation_range=30,\n",
        "zoom_range=0.15,\n",
        "width_shift_range=1.0,\n",
        "height_shift_range=1.0,\n",
        "shear_range=0.15,\n",
        "horizontal_flip=True,\n",
        "fill_mode=\"nearest\"\n",
        ")\n",
        "test_images = test_generator.flow_from_dataframe(\n",
        "dataframe=test_df,\n",
        "x_col='Filepath',\n",
        "y_col='Label',\n",
        "target_size=(248, 248),\n",
        "color_mode='rgb',\n",
        "class_mode='categorical',\n",
        "batch_size=32,\n",
        "shuffle=False\n",
        ")"
      ]
    },
    {
      "cell_type": "code",
      "execution_count": null,
      "metadata": {
        "colab": {
          "base_uri": "https://localhost:8080/"
        },
        "id": "qkMHY1k1XfzF",
        "outputId": "652c422d-7fb2-412c-a166-d7b4f2c002b5"
      },
      "outputs": [
        {
          "name": "stdout",
          "output_type": "stream",
          "text": [
            "Downloading data from https://storage.googleapis.com/tensorflow/keras-applications/mobilenet_v2/mobilenet_v2_weights_tf_dim_ordering_tf_kernels_1.0_224_no_top.h5\n",
            "9412608/9406464 [==============================] - 0s 0us/step\n",
            "9420800/9406464 [==============================] - 0s 0us/step\n"
          ]
        }
      ],
      "source": [
        "pretrained_model = tf.keras.applications.MobileNetV2(\n",
        "    input_shape=(224, 224, 3),\n",
        "    include_top=False,\n",
        "    weights='imagenet',\n",
        "    pooling='avg'\n",
        ")"
      ]
    },
    {
      "cell_type": "code",
      "execution_count": null,
      "metadata": {
        "id": "6HDoJrlQaKfD"
      },
      "outputs": [],
      "source": [
        "pretrained_model.trainable = False\n",
        "inputs = pretrained_model.input\n",
        "x = tf.keras.layers.Dense(128, activation='relu')(pretrained_model.output)\n",
        "x = tf.keras.layers.Dense(128, activation='relu')(x)\n",
        "outputs = tf.keras.layers.Dense(73, activation='softmax')(x)\n",
        "model = tf.keras.Model(inputs=inputs, outputs=outputs)\n",
        "model.compile(\n",
        "optimizer='adam',\n",
        "loss='categorical_crossentropy',\n",
        "metrics=['accuracy']\n",
        ")"
      ]
    },
    {
      "cell_type": "code",
      "execution_count": null,
      "metadata": {
        "id": "77SkULWlcIdf"
      },
      "outputs": [],
      "source": [
        "ACCURACY_THRESHOLD = 1\n",
        "from keras.callbacks import Callback\n",
        "class myCallback(Callback):\n",
        "  def on_epoch_end(self, epoch, logs={}): \n",
        "    if(logs.get('accuracy') > ACCURACY_THRESHOLD):   \n",
        "      print(\"\\nReached %2.2f%% accuracy, so stopping training!!\" %(ACCURACY_THRESHOLD*100))\n",
        "      self.model.stop_training = True"
      ]
    },
    {
      "cell_type": "code",
      "execution_count": null,
      "metadata": {
        "colab": {
          "background_save": true,
          "base_uri": "https://localhost:8080/"
        },
        "id": "PeZocU1qcObr",
        "outputId": "fe7358fa-3b75-4cf2-cba7-cfa668abe7ab"
      },
      "outputs": [
        {
          "name": "stdout",
          "output_type": "stream",
          "text": [
            "Epoch 1/7\n",
            "261/261 [==============================] - 2956s 11s/step - loss: 1.7497 - accuracy: 0.5650 - val_loss: 0.7750 - val_accuracy: 0.7710\n",
            "Epoch 2/7\n",
            "261/261 [==============================] - 299s 1s/step - loss: 0.4944 - accuracy: 0.8580 - val_loss: 0.6679 - val_accuracy: 0.8016\n",
            "Epoch 3/7\n",
            "261/261 [==============================] - 296s 1s/step - loss: 0.2847 - accuracy: 0.9162 - val_loss: 0.5107 - val_accuracy: 0.8476\n",
            "Epoch 4/7\n",
            "261/261 [==============================] - 294s 1s/step - loss: 0.1687 - accuracy: 0.9526 - val_loss: 0.5665 - val_accuracy: 0.8318\n",
            "Epoch 5/7\n",
            "261/261 [==============================] - 296s 1s/step - loss: 0.1168 - accuracy: 0.9676 - val_loss: 0.5356 - val_accuracy: 0.8548\n",
            "Epoch 6/7\n",
            "261/261 [==============================] - 296s 1s/step - loss: 0.0720 - accuracy: 0.9822 - val_loss: 0.5236 - val_accuracy: 0.8586\n",
            "Epoch 7/7\n",
            "261/261 [==============================] - 292s 1s/step - loss: 0.0431 - accuracy: 0.9911 - val_loss: 0.5597 - val_accuracy: 0.8433\n"
          ]
        }
      ],
      "source": [
        "callbacks = myCallback()\n",
        "history = model.fit(\n",
        "train_images,\n",
        "validation_data=val_images,\n",
        "epochs=7,\n",
        "callbacks=[callbacks]\n",
        ")"
      ]
    },
    {
      "cell_type": "code",
      "execution_count": null,
      "metadata": {
        "colab": {
          "background_save": true
        },
        "id": "5UQb1bD469VF",
        "outputId": "56a78736-8cc3-4e8e-b1d1-8930b557486f"
      },
      "outputs": [
        {
          "name": "stdout",
          "output_type": "stream",
          "text": [
            " Test Loss: 0.19537\n",
            "Test Accuracy: 92.33%\n"
          ]
        }
      ],
      "source": [
        "results = model.evaluate(test_images, verbose=0)\n",
        "print(\" Test Loss: {:.5f}\".format(results[0]))\n",
        "print(\"Test Accuracy: {:.2f}%\".format(results[1] * 100))\n"
      ]
    },
    {
      "cell_type": "code",
      "execution_count": null,
      "metadata": {
        "colab": {
          "background_save": true
        },
        "id": "jeEEWQLBEfaG",
        "outputId": "b000e5a4-553d-4099-cb88-080618f5ac37"
      },
      "outputs": [
        {
          "ename": "NameError",
          "evalue": "ignored",
          "output_type": "error",
          "traceback": [
            "\u001b[0;31m---------------------------------------------------------------------------\u001b[0m",
            "\u001b[0;31mNameError\u001b[0m                                 Traceback (most recent call last)",
            "\u001b[0;32m<ipython-input-16-5993daa821ff>\u001b[0m in \u001b[0;36m<module>\u001b[0;34m()\u001b[0m\n\u001b[1;32m      4\u001b[0m \u001b[0;32mfor\u001b[0m \u001b[0mi\u001b[0m\u001b[0;34m,\u001b[0m \u001b[0max\u001b[0m \u001b[0;32min\u001b[0m \u001b[0menumerate\u001b[0m\u001b[0;34m(\u001b[0m\u001b[0maxes\u001b[0m\u001b[0;34m.\u001b[0m\u001b[0mflat\u001b[0m\u001b[0;34m)\u001b[0m\u001b[0;34m:\u001b[0m\u001b[0;34m\u001b[0m\u001b[0;34m\u001b[0m\u001b[0m\n\u001b[1;32m      5\u001b[0m     \u001b[0max\u001b[0m\u001b[0;34m.\u001b[0m\u001b[0mimshow\u001b[0m\u001b[0;34m(\u001b[0m\u001b[0mplt\u001b[0m\u001b[0;34m.\u001b[0m\u001b[0mimread\u001b[0m\u001b[0;34m(\u001b[0m\u001b[0mtest_df\u001b[0m\u001b[0;34m.\u001b[0m\u001b[0mFilepath\u001b[0m\u001b[0;34m.\u001b[0m\u001b[0miloc\u001b[0m\u001b[0;34m[\u001b[0m\u001b[0mi\u001b[0m\u001b[0;34m]\u001b[0m\u001b[0;34m)\u001b[0m\u001b[0;34m)\u001b[0m\u001b[0;34m\u001b[0m\u001b[0;34m\u001b[0m\u001b[0m\n\u001b[0;32m----> 6\u001b[0;31m     \u001b[0max\u001b[0m\u001b[0;34m.\u001b[0m\u001b[0mset_title\u001b[0m\u001b[0;34m(\u001b[0m\u001b[0;34mf\"True: {test_df.Label.iloc[i]}\\nPredicted: {pred[i]}\"\u001b[0m\u001b[0;34m)\u001b[0m\u001b[0;34m\u001b[0m\u001b[0;34m\u001b[0m\u001b[0m\n\u001b[0m\u001b[1;32m      7\u001b[0m \u001b[0mplt\u001b[0m\u001b[0;34m.\u001b[0m\u001b[0mtight_layout\u001b[0m\u001b[0;34m(\u001b[0m\u001b[0;34m)\u001b[0m\u001b[0;34m\u001b[0m\u001b[0;34m\u001b[0m\u001b[0m\n\u001b[1;32m      8\u001b[0m \u001b[0mplt\u001b[0m\u001b[0;34m.\u001b[0m\u001b[0mshow\u001b[0m\u001b[0;34m(\u001b[0m\u001b[0;34m)\u001b[0m\u001b[0;34m\u001b[0m\u001b[0;34m\u001b[0m\u001b[0m\n",
            "\u001b[0;31mNameError\u001b[0m: name 'pred' is not defined"
          ]
        },
        {
          "data": {
            "image/png": "[encoded data removed]",
            "text/plain": [
              "<Figure size 1080x504 with 15 Axes>"
            ]
          },
          "metadata": {},
          "output_type": "display_data"
        }
      ],
      "source": [
        "fig, axes = plt.subplots(nrows=3, ncols=5, figsize=(15, 7),\n",
        "                        subplot_kw={'xticks': [], 'yticks': []})\n",
        "\n",
        "for i, ax in enumerate(axes.flat):\n",
        "    ax.imshow(plt.imread(test_df.Filepath.iloc[i]))\n",
        "    ax.set_title(f\"True: {test_df.Label.iloc[i]}\\nPredicted: {pred[i]}\")\n",
        "plt.tight_layout()\n",
        "plt.show()"
      ]
    },
    {
      "cell_type": "code",
      "execution_count": null,
      "metadata": {
        "colab": {
          "background_save": true
        },
        "id": "v9i7wHwu5ezZ"
      },
      "outputs": [],
      "source": [
        ""
      ]
    }
  ],
  "metadata": {
    "colab": {
      "name": "image.ipynb",
      "provenance": []
    },
    "kernelspec": {
      "display_name": "Python 3",
      "name": "python3"
    },
    "language_info": {
      "name": "python"
    }
  },
  "nbformat": 4,
  "nbformat_minor": 0
}